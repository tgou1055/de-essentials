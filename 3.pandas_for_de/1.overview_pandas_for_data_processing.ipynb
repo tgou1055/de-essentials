{
 "cells": [
  {
   "cell_type": "markdown",
   "metadata": {},
   "source": [
    "# Overview of Pandas for Data Processing\n",
    "\n",
    "Overview of Python Pandas Library\n",
    "- Pandas is one of the most popular libraries of Python\n",
    "- Usage: Data Processing, Data Analysis (including visualisation)\n",
    "- Robust APIs to read data from different soruces, process data and write data to different targets.\n",
    "- Integrated with File Formats, Databases, REST APIs, etc\n",
    "- Easy to integrate with additional File Systems or Databases (by installing additional libraries)"
   ]
  },
  {
   "cell_type": "code",
   "execution_count": 1,
   "metadata": {},
   "outputs": [],
   "source": [
    "import pandas as pd"
   ]
  }
 ],
 "metadata": {
  "kernelspec": {
   "display_name": "de-essentials-C4UFkHK6",
   "language": "python",
   "name": "python3"
  },
  "language_info": {
   "codemirror_mode": {
    "name": "ipython",
    "version": 3
   },
   "file_extension": ".py",
   "mimetype": "text/x-python",
   "name": "python",
   "nbconvert_exporter": "python",
   "pygments_lexer": "ipython3",
   "version": "3.12.3"
  }
 },
 "nbformat": 4,
 "nbformat_minor": 2
}
