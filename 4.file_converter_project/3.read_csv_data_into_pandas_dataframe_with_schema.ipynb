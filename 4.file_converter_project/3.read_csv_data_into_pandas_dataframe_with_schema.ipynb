{
 "cells": [
  {
   "cell_type": "code",
   "execution_count": 10,
   "metadata": {},
   "outputs": [],
   "source": [
    "import json\n",
    "import glob\n",
    "import pandas as pd\n",
    "import re # regular expression"
   ]
  },
  {
   "cell_type": "code",
   "execution_count": 5,
   "metadata": {},
   "outputs": [],
   "source": [
    "# Define a function to get column names from schemas.json\n",
    "def get_column_names(schemas: dict, ds_name: str, sorting_key='column_position'):\n",
    "    column_details = schemas[ds_name]\n",
    "    columns = sorted(column_details, key=lambda col: col[sorting_key], reverse=False)\n",
    "    return [col['column_name'] for col in columns]"
   ]
  },
  {
   "cell_type": "code",
   "execution_count": 44,
   "metadata": {},
   "outputs": [],
   "source": [
    "# Read the schemas as a dict through json\n",
    "schemas = json.load(open('../data/retail_db/schemas.json'))  # return python dict"
   ]
  },
  {
   "cell_type": "code",
   "execution_count": 45,
   "metadata": {},
   "outputs": [],
   "source": [
    "src_file_names = glob.glob('../data/retail_db/**/part*')"
   ]
  },
  {
   "cell_type": "code",
   "execution_count": 46,
   "metadata": {},
   "outputs": [
    {
     "data": {
      "text/plain": [
       "['../data/retail_db/order_items/part-00000',\n",
       " '../data/retail_db/orders/part-00000',\n",
       " '../data/retail_db/categories/part-00000',\n",
       " '../data/retail_db/products/part-00000',\n",
       " '../data/retail_db/customers/part-00000',\n",
       " '../data/retail_db/departments/part-00000']"
      ]
     },
     "execution_count": 46,
     "metadata": {},
     "output_type": "execute_result"
    }
   ],
   "source": [
    "src_file_names"
   ]
  },
  {
   "cell_type": "code",
   "execution_count": 18,
   "metadata": {},
   "outputs": [],
   "source": [
    "#help(re)"
   ]
  },
  {
   "cell_type": "code",
   "execution_count": 29,
   "metadata": {},
   "outputs": [
    {
     "data": {
      "text/plain": [
       "[['..', 'data', 'retail_db', 'order_items', 'part-00000'],\n",
       " ['..', 'data', 'retail_db', 'orders', 'part-00000'],\n",
       " ['..', 'data', 'retail_db', 'orders_json', 'part-00000'],\n",
       " ['..', 'data', 'retail_db', 'categories', 'part-00000'],\n",
       " ['..', 'data', 'retail_db', 'products', 'part-00000'],\n",
       " ['..', 'data', 'retail_db', 'customers', 'part-00000'],\n",
       " ['..', 'data', 'retail_db', 'departments', 'part-00000']]"
      ]
     },
     "execution_count": 29,
     "metadata": {},
     "output_type": "execute_result"
    }
   ],
   "source": [
    "[re.split('[/]', file_name) for file_name in src_file_names] "
   ]
  },
  {
   "cell_type": "code",
   "execution_count": 47,
   "metadata": {},
   "outputs": [
    {
     "name": "stdout",
     "output_type": "stream",
     "text": [
      "Processing file: ../data/retail_db/order_items/part-00000\n",
      "Shape of order_items is (172198, 6)\n",
      "Processing file: ../data/retail_db/orders/part-00000\n",
      "Shape of orders is (68883, 4)\n",
      "Processing file: ../data/retail_db/categories/part-00000\n",
      "Shape of categories is (58, 3)\n",
      "Processing file: ../data/retail_db/products/part-00000\n",
      "Shape of products is (1345, 6)\n",
      "Processing file: ../data/retail_db/customers/part-00000\n",
      "Shape of customers is (12435, 9)\n",
      "Processing file: ../data/retail_db/departments/part-00000\n",
      "Shape of departments is (6, 2)\n"
     ]
    }
   ],
   "source": [
    "# meta data driven approach\n",
    "for file in src_file_names:\n",
    "    print(f'Processing file: {file}')\n",
    "    file_path_list = re.split('[/]', file)\n",
    "    ds_name = file_path_list[-2]\n",
    "    columns = get_column_names(schemas, ds_name)\n",
    "    df = pd.read_csv(file, names=columns, header=None)\n",
    "    print(f'Shape of {ds_name} is {df.shape}')"
   ]
  },
  {
   "cell_type": "code",
   "execution_count": 48,
   "metadata": {},
   "outputs": [
    {
     "data": {
      "text/html": [
       "<div>\n",
       "<style scoped>\n",
       "    .dataframe tbody tr th:only-of-type {\n",
       "        vertical-align: middle;\n",
       "    }\n",
       "\n",
       "    .dataframe tbody tr th {\n",
       "        vertical-align: top;\n",
       "    }\n",
       "\n",
       "    .dataframe thead th {\n",
       "        text-align: right;\n",
       "    }\n",
       "</style>\n",
       "<table border=\"1\" class=\"dataframe\">\n",
       "  <thead>\n",
       "    <tr style=\"text-align: right;\">\n",
       "      <th></th>\n",
       "      <th>department_id</th>\n",
       "      <th>department_name</th>\n",
       "    </tr>\n",
       "  </thead>\n",
       "  <tbody>\n",
       "    <tr>\n",
       "      <th>0</th>\n",
       "      <td>2</td>\n",
       "      <td>Fitness</td>\n",
       "    </tr>\n",
       "    <tr>\n",
       "      <th>1</th>\n",
       "      <td>3</td>\n",
       "      <td>Footwear</td>\n",
       "    </tr>\n",
       "    <tr>\n",
       "      <th>2</th>\n",
       "      <td>4</td>\n",
       "      <td>Apparel</td>\n",
       "    </tr>\n",
       "    <tr>\n",
       "      <th>3</th>\n",
       "      <td>5</td>\n",
       "      <td>Golf</td>\n",
       "    </tr>\n",
       "    <tr>\n",
       "      <th>4</th>\n",
       "      <td>6</td>\n",
       "      <td>Outdoors</td>\n",
       "    </tr>\n",
       "    <tr>\n",
       "      <th>5</th>\n",
       "      <td>7</td>\n",
       "      <td>Fan Shop</td>\n",
       "    </tr>\n",
       "  </tbody>\n",
       "</table>\n",
       "</div>"
      ],
      "text/plain": [
       "   department_id department_name\n",
       "0              2         Fitness\n",
       "1              3        Footwear\n",
       "2              4         Apparel\n",
       "3              5            Golf\n",
       "4              6        Outdoors\n",
       "5              7        Fan Shop"
      ]
     },
     "execution_count": 48,
     "metadata": {},
     "output_type": "execute_result"
    }
   ],
   "source": [
    "df"
   ]
  }
 ],
 "metadata": {
  "kernelspec": {
   "display_name": "de-essentials-C4UFkHK6",
   "language": "python",
   "name": "python3"
  },
  "language_info": {
   "codemirror_mode": {
    "name": "ipython",
    "version": 3
   },
   "file_extension": ".py",
   "mimetype": "text/x-python",
   "name": "python",
   "nbconvert_exporter": "python",
   "pygments_lexer": "ipython3",
   "version": "3.12.3"
  }
 },
 "nbformat": 4,
 "nbformat_minor": 2
}
