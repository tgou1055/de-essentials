{
 "cells": [
  {
   "cell_type": "code",
   "execution_count": 2,
   "metadata": {},
   "outputs": [],
   "source": [
    "import glob\n",
    "import re"
   ]
  },
  {
   "cell_type": "code",
   "execution_count": 3,
   "metadata": {},
   "outputs": [],
   "source": [
    "src_file_names = glob.glob('../data/retail_db/*/part*')"
   ]
  },
  {
   "cell_type": "code",
   "execution_count": 4,
   "metadata": {},
   "outputs": [
    {
     "name": "stdout",
     "output_type": "stream",
     "text": [
      "['..', 'data', 'retail_db', 'order_items', 'part-00000']\n",
      "['..', 'data', 'retail_db', 'orders', 'part-00000']\n",
      "['..', 'data', 'retail_db', 'categories', 'part-00000']\n",
      "['..', 'data', 'retail_db', 'products', 'part-00000']\n",
      "['..', 'data', 'retail_db', 'customers', 'part-00000']\n",
      "['..', 'data', 'retail_db', 'departments', 'part-00000']\n"
     ]
    },
    {
     "name": "stderr",
     "output_type": "stream",
     "text": [
      "<>:2: SyntaxWarning: invalid escape sequence '\\]'\n",
      "<>:2: SyntaxWarning: invalid escape sequence '\\]'\n",
      "/tmp/ipykernel_26392/3555666488.py:2: SyntaxWarning: invalid escape sequence '\\]'\n",
      "  file_path_list = re.split('[/\\\\\\]', file)\n"
     ]
    }
   ],
   "source": [
    "for file in src_file_names:\n",
    "    file_path_list = re.split('[/\\\\\\]', file)\n",
    "    print(file_path_list)"
   ]
  },
  {
   "cell_type": "code",
   "execution_count": 5,
   "metadata": {},
   "outputs": [],
   "source": [
    "base_dir = '../data/retail_db_json'"
   ]
  },
  {
   "cell_type": "code",
   "execution_count": 6,
   "metadata": {},
   "outputs": [],
   "source": [
    "file = src_file_names[0]"
   ]
  },
  {
   "cell_type": "code",
   "execution_count": 10,
   "metadata": {},
   "outputs": [
    {
     "name": "stdout",
     "output_type": "stream",
     "text": [
      "../data/retail_db_json/order_items/part-00000\n",
      "../data/retail_db_json/orders/part-00000\n",
      "../data/retail_db_json/categories/part-00000\n",
      "../data/retail_db_json/products/part-00000\n",
      "../data/retail_db_json/customers/part-00000\n",
      "../data/retail_db_json/departments/part-00000\n"
     ]
    }
   ],
   "source": [
    "# meta data driven approach\n",
    "for file in src_file_names:\n",
    "    file_path_list = re.split('[/]', file)\n",
    "    ds_name = file_path_list[-2]\n",
    "    file_name = file_path_list[-1]\n",
    "    json_file_path = f'{base_dir}/{ds_name}/{file_name}'\n",
    "    print(json_file_path)"
   ]
  }
 ],
 "metadata": {
  "kernelspec": {
   "display_name": "de-essentials-C4UFkHK6",
   "language": "python",
   "name": "python3"
  },
  "language_info": {
   "codemirror_mode": {
    "name": "ipython",
    "version": 3
   },
   "file_extension": ".py",
   "mimetype": "text/x-python",
   "name": "python",
   "nbconvert_exporter": "python",
   "pygments_lexer": "ipython3",
   "version": "3.12.3"
  }
 },
 "nbformat": 4,
 "nbformat_minor": 2
}
