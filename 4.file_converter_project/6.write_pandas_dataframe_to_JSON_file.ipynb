{
 "cells": [
  {
   "cell_type": "code",
   "execution_count": 6,
   "metadata": {},
   "outputs": [],
   "source": [
    "import glob\n",
    "import json\n",
    "import re\n",
    "import pandas as pd\n",
    "import os"
   ]
  },
  {
   "cell_type": "code",
   "execution_count": 7,
   "metadata": {},
   "outputs": [],
   "source": [
    "# Define a function to get column names from schemas.json\n",
    "def get_column_names(schemas: dict, ds_name: str, sorting_key='column_position'):\n",
    "    column_details = schemas[ds_name]\n",
    "    columns = sorted(column_details, key=lambda col: col[sorting_key], reverse=False)\n",
    "    return [col['column_name'] for col in columns]\n",
    "\n",
    "# Prepare the file names\n",
    "src_file_names = glob.glob('../data/retail_db/*/part*')\n",
    "\n",
    "# Read the schemas as a dict through json\n",
    "schemas = json.load(open('../data/retail_db/schemas.json'))  # return python dict"
   ]
  },
  {
   "cell_type": "code",
   "execution_count": 10,
   "metadata": {},
   "outputs": [
    {
     "name": "stdout",
     "output_type": "stream",
     "text": [
      "Processing file: ../data/retail_db/order_items/part-00000\n",
      "Processing file: ../data/retail_db/orders/part-00000\n",
      "Processing file: ../data/retail_db/categories/part-00000\n",
      "Processing file: ../data/retail_db/products/part-00000\n",
      "Processing file: ../data/retail_db/customers/part-00000\n",
      "Processing file: ../data/retail_db/departments/part-00000\n"
     ]
    }
   ],
   "source": [
    "trg_base_dir = '../data/retail_db_json'\n",
    "for file in src_file_names:\n",
    "    print(f'Processing file: {file}')\n",
    "    file_path_list = re.split('[/]', file)\n",
    "    ds_name = file_path_list[-2]\n",
    "    file_name = file_path_list[-1]\n",
    "    json_file_path = f'{trg_base_dir}/{ds_name}/{file_name}'\n",
    "    columns = get_column_names(schemas, ds_name)\n",
    "    df = pd.read_csv(file, names=columns)\n",
    "    os.makedirs(f'{trg_base_dir}/{ds_name}', exist_ok=True)\n",
    "    df.to_json(\n",
    "        json_file_path,\n",
    "        orient='records',\n",
    "        lines=True\n",
    "    )\n"
   ]
  }
 ],
 "metadata": {
  "kernelspec": {
   "display_name": "de-essentials-C4UFkHK6",
   "language": "python",
   "name": "python3"
  },
  "language_info": {
   "codemirror_mode": {
    "name": "ipython",
    "version": 3
   },
   "file_extension": ".py",
   "mimetype": "text/x-python",
   "name": "python",
   "nbconvert_exporter": "python",
   "pygments_lexer": "ipython3",
   "version": "3.12.3"
  }
 },
 "nbformat": 4,
 "nbformat_minor": 2
}
