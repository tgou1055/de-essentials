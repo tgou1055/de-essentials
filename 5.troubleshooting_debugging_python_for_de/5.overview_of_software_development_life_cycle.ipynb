{
 "cells": [
  {
   "cell_type": "markdown",
   "metadata": {},
   "source": [
    "### Software Development Life Cycle\n",
    "1. Requirements\n",
    "2. Design\n",
    "3. Development (unit testing)\n",
    "4. Testing (QA)\n",
    "5. Deployment (Production)"
   ]
  }
 ],
 "metadata": {
  "language_info": {
   "name": "python"
  }
 },
 "nbformat": 4,
 "nbformat_minor": 2
}
