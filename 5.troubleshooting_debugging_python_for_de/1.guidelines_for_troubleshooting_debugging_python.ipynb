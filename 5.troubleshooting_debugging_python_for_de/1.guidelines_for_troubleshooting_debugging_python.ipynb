{
 "cells": [
  {
   "cell_type": "markdown",
   "metadata": {},
   "source": [
    "### Troubleshooting and Debugging Python issues\n",
    "- Connectivity issues (e.g Database Connectivity, API Connectivity, etc)\n",
    "- Compile Time Errors (Syntax Errors)\n",
    "- Run Time Errors (Exceptions)\n",
    "- Bugs in Python Code\n",
    "- Performance Issues"
   ]
  },
  {
   "cell_type": "markdown",
   "metadata": {},
   "source": [
    "### General Guidelines for Troubleshooting and Debugging (Python Issues)\n",
    "- Read the error properly\n",
    "- Understand the details provided along with error\n",
    "- Troubleshoot root cause of the issue"
   ]
  }
 ],
 "metadata": {
  "language_info": {
   "name": "python"
  }
 },
 "nbformat": 4,
 "nbformat_minor": 2
}
