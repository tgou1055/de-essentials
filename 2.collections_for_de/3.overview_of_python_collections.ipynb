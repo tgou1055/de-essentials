{
 "cells": [
  {
   "cell_type": "markdown",
   "metadata": {},
   "source": [
    "# Overview of Python Collections\n",
    "\n",
    "- list - group of similar or homogenous elements, not unique.\n",
    "- set - group of simlar and unique elements.\n",
    "- tuple - group of elements of different types.\n",
    "- dict - group of key value pairs where keys are unique.\n",
    "\n",
    "*Even though all these 4 collections are important, we see list and dict more often from the perspective\n",
    "of data engineering.*"
   ]
  },
  {
   "cell_type": "code",
   "execution_count": 7,
   "metadata": {},
   "outputs": [],
   "source": [
    "# list\n",
    "orders = ['1,2013-07-25 00:00:00.0,11599,CLOSED',\n",
    " '2,2013-07-25 00:00:00.0,256,PENDING_PAYMENT',\n",
    " '3,2013-07-25 00:00:00.0,12111,COMPLETE',\n",
    " '4,2013-07-25 00:00:00.0,8827,CLOSED',\n",
    " '5,2013-07-25 00:00:00.0,11318,COMPLETE',\n",
    " '6,2013-07-25 00:00:00.0,7130,COMPLETE',\n",
    " '7,2013-07-25 00:00:00.0,4530,COMPLETE',\n",
    " '8,2013-07-25 00:00:00.0,2911,PROCESSING',\n",
    " '9,2013-07-25 00:00:00.0,5657,PENDING_PAYMENT',\n",
    " '10,2013-07-25 00:00:00.0,5648,PENDING_PAYMENT']"
   ]
  },
  {
   "cell_type": "code",
   "execution_count": 8,
   "metadata": {},
   "outputs": [
    {
     "data": {
      "text/plain": [
       "'2,2013-07-25 00:00:00.0,256,PENDING_PAYMENT'"
      ]
     },
     "execution_count": 8,
     "metadata": {},
     "output_type": "execute_result"
    }
   ],
   "source": [
    "orders[1]"
   ]
  },
  {
   "cell_type": "code",
   "execution_count": 10,
   "metadata": {},
   "outputs": [
    {
     "data": {
      "text/plain": [
       "{1, 2, 3, 4, 5}"
      ]
     },
     "execution_count": 10,
     "metadata": {},
     "output_type": "execute_result"
    }
   ],
   "source": [
    "# set example (only store unique elements)\n",
    "setE = {1,1,3,2,5,5,4}\n",
    "setE"
   ]
  },
  {
   "cell_type": "code",
   "execution_count": 13,
   "metadata": {},
   "outputs": [
    {
     "data": {
      "text/plain": [
       "(2, '2013-07-25 00:00:00.0', 256, 'PENDING_PAYMENT')"
      ]
     },
     "execution_count": 13,
     "metadata": {},
     "output_type": "execute_result"
    }
   ],
   "source": [
    "# tuple (immutatble)\n",
    "ordert = (2,'2013-07-25 00:00:00.0',256,'PENDING_PAYMENT')\n",
    "ordert"
   ]
  },
  {
   "cell_type": "code",
   "execution_count": 14,
   "metadata": {},
   "outputs": [],
   "source": [
    "orderd = {\n",
    "    'order_id':1,\n",
    "    'order_date': '2013-07-25 00:00:00.0',\n",
    "    'order_customer_id': 11599,\n",
    "    'order_status': 'CLOSED'\n",
    "}"
   ]
  },
  {
   "cell_type": "code",
   "execution_count": 15,
   "metadata": {},
   "outputs": [
    {
     "data": {
      "text/plain": [
       "dict_keys(['order_id', 'order_date', 'order_customer_id', 'order_status'])"
      ]
     },
     "execution_count": 15,
     "metadata": {},
     "output_type": "execute_result"
    }
   ],
   "source": [
    "orderd.keys()"
   ]
  },
  {
   "cell_type": "code",
   "execution_count": 16,
   "metadata": {},
   "outputs": [
    {
     "data": {
      "text/plain": [
       "dict_values([1, '2013-07-25 00:00:00.0', 11599, 'CLOSED'])"
      ]
     },
     "execution_count": 16,
     "metadata": {},
     "output_type": "execute_result"
    }
   ],
   "source": [
    "orderd.values()"
   ]
  },
  {
   "cell_type": "code",
   "execution_count": 17,
   "metadata": {},
   "outputs": [
    {
     "data": {
      "text/plain": [
       "11599"
      ]
     },
     "execution_count": 17,
     "metadata": {},
     "output_type": "execute_result"
    }
   ],
   "source": [
    "orderd['order_customer_id']"
   ]
  },
  {
   "cell_type": "code",
   "execution_count": 19,
   "metadata": {},
   "outputs": [
    {
     "data": {
      "text/plain": [
       "11599"
      ]
     },
     "execution_count": 19,
     "metadata": {},
     "output_type": "execute_result"
    }
   ],
   "source": [
    "orderd.get('order_customer_id')"
   ]
  },
  {
   "cell_type": "code",
   "execution_count": 20,
   "metadata": {},
   "outputs": [
    {
     "ename": "KeyError",
     "evalue": "'customer_id'",
     "output_type": "error",
     "traceback": [
      "\u001b[0;31m---------------------------------------------------------------------------\u001b[0m",
      "\u001b[0;31mKeyError\u001b[0m                                  Traceback (most recent call last)",
      "Cell \u001b[0;32mIn[20], line 1\u001b[0m\n\u001b[0;32m----> 1\u001b[0m \u001b[43morderd\u001b[49m\u001b[43m[\u001b[49m\u001b[38;5;124;43m'\u001b[39;49m\u001b[38;5;124;43mcustomer_id\u001b[39;49m\u001b[38;5;124;43m'\u001b[39;49m\u001b[43m]\u001b[49m  \u001b[38;5;66;03m# exception raised\u001b[39;00m\n",
      "\u001b[0;31mKeyError\u001b[0m: 'customer_id'"
     ]
    }
   ],
   "source": [
    "orderd['customer_id']  # exception raised"
   ]
  },
  {
   "cell_type": "code",
   "execution_count": 21,
   "metadata": {},
   "outputs": [],
   "source": [
    "orderd.get('customer_id') # no exception"
   ]
  },
  {
   "cell_type": "code",
   "execution_count": null,
   "metadata": {},
   "outputs": [],
   "source": []
  }
 ],
 "metadata": {
  "kernelspec": {
   "display_name": "de-essentials-C4UFkHK6",
   "language": "python",
   "name": "python3"
  },
  "language_info": {
   "codemirror_mode": {
    "name": "ipython",
    "version": 3
   },
   "file_extension": ".py",
   "mimetype": "text/x-python",
   "name": "python",
   "nbconvert_exporter": "python",
   "pygments_lexer": "ipython3",
   "version": "3.12.3"
  }
 },
 "nbformat": 4,
 "nbformat_minor": 2
}
