{
 "cells": [
  {
   "cell_type": "code",
   "execution_count": 7,
   "metadata": {},
   "outputs": [],
   "source": [
    "import psycopg2\n",
    "import os\n",
    "import pandas as pd\n",
    "import json"
   ]
  },
  {
   "cell_type": "code",
   "execution_count": 8,
   "metadata": {},
   "outputs": [],
   "source": [
    "postgres_usr = os.environ.get('POSTGRES_USR')\n",
    "postgres_pwd = os.environ.get('POSTGRES_PWD')\n",
    "postgres_host = os.environ.get('POSTGRES_HOST')\n",
    "\n",
    "conn_uri = f'postgresql://{postgres_usr}:{postgres_pwd}@{postgres_host}:5432/postgres'"
   ]
  },
  {
   "cell_type": "code",
   "execution_count": 9,
   "metadata": {},
   "outputs": [],
   "source": [
    "# Connect to your PostgreSQL database using cursor\n",
    "# Execute DDL\n",
    "def connect_database_ddl(exec_query:str, db, usr, pwd, host):\n",
    "    conn = psycopg2.connect(f\"dbname={db} user={usr} password={pwd} host={host}\")\n",
    "    cursor = conn.cursor()\n",
    "    # Execute the TRUNCATE statement\n",
    "    cursor.execute(exec_query)\n",
    "    # Commit the changes\n",
    "    conn.commit()\n",
    "    # Close the cursor and connection\n",
    "    cursor.close()\n",
    "    conn.close()"
   ]
  },
  {
   "cell_type": "code",
   "execution_count": 28,
   "metadata": {},
   "outputs": [
    {
     "name": "stdout",
     "output_type": "stream",
     "text": [
      "Truncation Complete !\n"
     ]
    }
   ],
   "source": [
    "t_names = ['orders', 'categories', 'customers','departments', 'order_items', 'products']\n",
    "\n",
    "for t_name in t_names:\n",
    "    exec_query = f'TRUNCATE TABLE retail.{t_name}'\n",
    "    connect_database_ddl(exec_query, \"postgres\", postgres_usr, postgres_pwd, postgres_host)\n",
    "\n",
    "print('Truncation Complete !')"
   ]
  },
  {
   "cell_type": "code",
   "execution_count": 26,
   "metadata": {},
   "outputs": [
    {
     "data": {
      "text/html": [
       "<div>\n",
       "<style scoped>\n",
       "    .dataframe tbody tr th:only-of-type {\n",
       "        vertical-align: middle;\n",
       "    }\n",
       "\n",
       "    .dataframe tbody tr th {\n",
       "        vertical-align: top;\n",
       "    }\n",
       "\n",
       "    .dataframe thead th {\n",
       "        text-align: right;\n",
       "    }\n",
       "</style>\n",
       "<table border=\"1\" class=\"dataframe\">\n",
       "  <thead>\n",
       "    <tr style=\"text-align: right;\">\n",
       "      <th></th>\n",
       "      <th>customer_id</th>\n",
       "      <th>customer_fname</th>\n",
       "      <th>customer_lname</th>\n",
       "      <th>customer_email</th>\n",
       "      <th>customer_password</th>\n",
       "      <th>customer_street</th>\n",
       "      <th>customer_city</th>\n",
       "      <th>customer_state</th>\n",
       "      <th>customer_zipcode</th>\n",
       "    </tr>\n",
       "  </thead>\n",
       "  <tbody>\n",
       "  </tbody>\n",
       "</table>\n",
       "</div>"
      ],
      "text/plain": [
       "Empty DataFrame\n",
       "Columns: [customer_id, customer_fname, customer_lname, customer_email, customer_password, customer_street, customer_city, customer_state, customer_zipcode]\n",
       "Index: []"
      ]
     },
     "execution_count": 26,
     "metadata": {},
     "output_type": "execute_result"
    }
   ],
   "source": [
    "\"\"\"\n",
    "Pandas read_sql can not execute DDL\n",
    "\"\"\"\n",
    "\n",
    "query = 'SELECT * FROM retail.customers'\n",
    "pd.read_sql(query, conn_uri)"
   ]
  },
  {
   "cell_type": "code",
   "execution_count": 5,
   "metadata": {},
   "outputs": [],
   "source": [
    "def get_column_names(schemas: dict, ds_name: str, sorting_key='column_position'):\n",
    "    \"\"\"\n",
    "    Get column names from schemas.json\n",
    "    \"\"\"\n",
    "    column_details = schemas[ds_name]\n",
    "    columns = sorted(column_details, key=lambda col: col[sorting_key], reverse=False)\n",
    "    return [col['column_name'] for col in columns]"
   ]
  },
  {
   "cell_type": "code",
   "execution_count": 6,
   "metadata": {},
   "outputs": [],
   "source": [
    "schemas = json.load(open('../data/retail_db/schemas.json'))\n",
    "columns = get_column_names(schemas, 'orders')\n",
    "df = pd.read_csv('../data/retail_db/orders/part-00000', names=columns)"
   ]
  },
  {
   "cell_type": "code",
   "execution_count": 12,
   "metadata": {},
   "outputs": [],
   "source": [
    "df_reader = pd.read_csv('../data/retail_db/orders/part-00000', names=columns, chunksize=10000)"
   ]
  },
  {
   "cell_type": "code",
   "execution_count": 13,
   "metadata": {},
   "outputs": [
    {
     "data": {
      "text/plain": [
       "pandas.io.parsers.readers.TextFileReader"
      ]
     },
     "execution_count": 13,
     "metadata": {},
     "output_type": "execute_result"
    }
   ],
   "source": [
    "type(df_reader)"
   ]
  },
  {
   "cell_type": "code",
   "execution_count": 14,
   "metadata": {},
   "outputs": [
    {
     "data": {
      "text/plain": [
       "list"
      ]
     },
     "execution_count": 14,
     "metadata": {},
     "output_type": "execute_result"
    }
   ],
   "source": [
    "df_list = list(df_reader)\n",
    "type(df_list)"
   ]
  },
  {
   "cell_type": "code",
   "execution_count": 17,
   "metadata": {},
   "outputs": [
    {
     "data": {
      "text/plain": [
       "pandas.core.frame.DataFrame"
      ]
     },
     "execution_count": 17,
     "metadata": {},
     "output_type": "execute_result"
    }
   ],
   "source": [
    "# each item in df_list is a dataframe\n",
    "type(df_list[0])"
   ]
  },
  {
   "cell_type": "code",
   "execution_count": 22,
   "metadata": {},
   "outputs": [
    {
     "name": "stdout",
     "output_type": "stream",
     "text": [
      "Size of chunk 0 is (10000, 4)\n",
      "Size of chunk 1 is (10000, 4)\n",
      "Size of chunk 2 is (10000, 4)\n",
      "Size of chunk 3 is (10000, 4)\n",
      "Size of chunk 4 is (10000, 4)\n",
      "Size of chunk 5 is (10000, 4)\n",
      "Size of chunk 6 is (8883, 4)\n"
     ]
    }
   ],
   "source": [
    "for index, df in enumerate(df_list):\n",
    "    print(f'Size of chunk {index} is {df.shape}')\n",
    "    df.to_sql(\n",
    "        name='orders',\n",
    "        con=conn_uri,\n",
    "        schema='retail',\n",
    "        if_exists='append',\n",
    "        index=False\n",
    "    )"
   ]
  },
  {
   "cell_type": "code",
   "execution_count": 1,
   "metadata": {},
   "outputs": [],
   "source": [
    "from dotenv import load_dotenv"
   ]
  },
  {
   "cell_type": "code",
   "execution_count": 2,
   "metadata": {},
   "outputs": [
    {
     "data": {
      "text/plain": [
       "True"
      ]
     },
     "execution_count": 2,
     "metadata": {},
     "output_type": "execute_result"
    }
   ],
   "source": [
    "# Load environment variables from the .env file\n",
    "load_dotenv()"
   ]
  },
  {
   "cell_type": "code",
   "execution_count": 6,
   "metadata": {},
   "outputs": [
    {
     "data": {
      "text/plain": [
       "'de-essentials.c1i000w28fpm.ap-southeast-2.rds.amazonaws.com'"
      ]
     },
     "execution_count": 6,
     "metadata": {},
     "output_type": "execute_result"
    }
   ],
   "source": [
    "# Access the environment variables\n",
    "os.getenv('SRC_BASE_DIR')\n",
    "os.getenv('POSTGRES_HOST')"
   ]
  },
  {
   "cell_type": "code",
   "execution_count": null,
   "metadata": {},
   "outputs": [],
   "source": []
  }
 ],
 "metadata": {
  "kernelspec": {
   "display_name": "de-essentials-C4UFkHK6",
   "language": "python",
   "name": "python3"
  },
  "language_info": {
   "codemirror_mode": {
    "name": "ipython",
    "version": 3
   },
   "file_extension": ".py",
   "mimetype": "text/x-python",
   "name": "python",
   "nbconvert_exporter": "python",
   "pygments_lexer": "ipython3",
   "version": "3.12.3"
  }
 },
 "nbformat": 4,
 "nbformat_minor": 2
}
