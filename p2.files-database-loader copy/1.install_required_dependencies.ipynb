{
 "cells": [
  {
   "cell_type": "code",
   "execution_count": null,
   "metadata": {},
   "outputs": [],
   "source": [
    "# required for notebook to use sql magic\n",
    "# facilitates to run queries from notebooks without using python code\n",
    "\n",
    "!pipenv install ipython-sql"
   ]
  },
  {
   "cell_type": "code",
   "execution_count": null,
   "metadata": {},
   "outputs": [],
   "source": [
    "# native postgres library to connect to postgres database server\n",
    "!pipenv install psycopg2-binary"
   ]
  },
  {
   "cell_type": "code",
   "execution_count": null,
   "metadata": {},
   "outputs": [],
   "source": [
    "# SQL Alchemy is ORM and needs native database libraries (psycopg2)\n",
    "# Pandas internally uses SQL Alchemy to connect to database\n",
    "!pipenv install sqlalchemy"
   ]
  }
 ],
 "metadata": {
  "kernelspec": {
   "display_name": "de-essentials-C4UFkHK6",
   "language": "python",
   "name": "python3"
  },
  "language_info": {
   "name": "python",
   "version": "3.12.3"
  }
 },
 "nbformat": 4,
 "nbformat_minor": 2
}
