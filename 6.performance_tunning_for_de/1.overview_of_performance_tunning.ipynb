{
 "cells": [
  {
   "cell_type": "markdown",
   "metadata": {},
   "source": [
    "### Overview of Performance Tunning of Python Application\n",
    "\n",
    "Agenda:\n",
    "1. Setup application for performance tunning (File to database loader)\n",
    "2. Tunning performance of read operation using Pandas\n",
    "3. Tunning performance of write operation using Pandas\n",
    "4. Tunning performance using multiprocessing\n",
    "\n",
    "Details to be reviewed:\n",
    "1. Understand System Configuration\n",
    "2. Understand Workload Characteristics\n",
    "3. Understand Application Characteristics\n",
    "4. Understand SLAs\n",
    "\n",
    "Steps or Guidelines to be followed:\n",
    "1. Run the application.\n",
    "2. Evaluate Run details against SLAs.\n",
    "3. Identify Performance Bottlenecks.\n",
    "4. Solution to tune the performance.\n",
    "5. Overall execution time, CPU time, amount of I/O and other related resources."
   ]
  },
  {
   "cell_type": "markdown",
   "metadata": {},
   "source": [
    "SLAs, or Service Level Agreements, are formal commitments between a service provider and a client, outlining specific service standards, responsibilities, and guarantees. They are commonly used in IT services, telecommunications, cloud computing, and other customer-facing industries to define measurable performance criteria and ensure client satisfaction. Key aspects of an SLA typically include:\n",
    "\n",
    "- Performance Metrics: Defining benchmarks for service availability, response times, uptime, and quality.\n",
    "- Responsibilities: Detailing the roles of both the service provider and the client.\n",
    "- Response and Resolution Times: Setting timeframes for acknowledging and resolving issues.\n",
    "- Penalties and Remedies: Describing consequences if the provider fails to meet agreed standards.\n",
    "- Monitoring and Reporting: Specifying how performance will be tracked and reported to ensure transparency.\n",
    "- SLAs help create accountability and are essential for managing expectations and maintaining trust in the service-provider relationship."
   ]
  }
 ],
 "metadata": {
  "kernelspec": {
   "display_name": "de-essentials-C4UFkHK6",
   "language": "python",
   "name": "python3"
  },
  "language_info": {
   "name": "python",
   "version": "3.12.3"
  }
 },
 "nbformat": 4,
 "nbformat_minor": 2
}
